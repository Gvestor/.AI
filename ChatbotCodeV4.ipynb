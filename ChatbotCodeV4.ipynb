{
 "cells": [
  {
   "cell_type": "code",
   "execution_count": 2,
   "metadata": {
    "collapsed": true
   },
   "outputs": [
    {
     "name": "stdout",
     "output_type": "stream",
     "text": [
      " * Serving Flask app \"__main__\" (lazy loading)\n",
      " * Environment: production\n",
      "\u001B[31m   WARNING: This is a development server. Do not use it in a production deployment.\u001B[0m\n",
      "\u001B[2m   Use a production WSGI server instead.\u001B[0m\n",
      " * Debug mode: on\n"
     ]
    },
    {
     "name": "stderr",
     "output_type": "stream",
     "text": [
      " * Running on http://127.0.0.1:5000/ (Press CTRL+C to quit)\n",
      " * Restarting with watchdog (fsevents)\n",
      "Traceback (most recent call last):\n",
      "  File \"/Users/Zaid/opt/anaconda3/lib/python3.9/site-packages/ipykernel_launcher.py\", line 15, in <module>\n",
      "    from ipykernel import kernelapp as app\n",
      "  File \"/Users/Zaid/opt/anaconda3/lib/python3.9/site-packages/ipykernel/kernelapp.py\", line 18, in <module>\n",
      "    from IPython.core.application import (\n",
      "  File \"/Users/Zaid/opt/anaconda3/lib/python3.9/site-packages/IPython/__init__.py\", line 56, in <module>\n",
      "    from .terminal.embed import embed\n",
      "  File \"/Users/Zaid/opt/anaconda3/lib/python3.9/site-packages/IPython/terminal/embed.py\", line 16, in <module>\n",
      "    from IPython.terminal.interactiveshell import TerminalInteractiveShell\n",
      "  File \"/Users/Zaid/opt/anaconda3/lib/python3.9/site-packages/IPython/terminal/interactiveshell.py\", line 35, in <module>\n",
      "    from .debugger import TerminalPdb, Pdb\n",
      "  File \"/Users/Zaid/opt/anaconda3/lib/python3.9/site-packages/IPython/terminal/debugger.py\", line 6, in <module>\n",
      "    from IPython.core.completer import IPCompleter\n",
      "  File \"/Users/Zaid/opt/anaconda3/lib/python3.9/site-packages/IPython/core/completer.py\", line 146, in <module>\n",
      "    import jedi\n",
      "  File \"/Users/Zaid/opt/anaconda3/lib/python3.9/site-packages/jedi/__init__.py\", line 32, in <module>\n",
      "    from jedi.api import Script, Interpreter, set_debug_function, preload_module\n",
      "  File \"/Users/Zaid/opt/anaconda3/lib/python3.9/site-packages/jedi/api/__init__.py\", line 13, in <module>\n",
      "    import parso\n",
      "  File \"/Users/Zaid/opt/anaconda3/lib/python3.9/site-packages/parso/__init__.py\", line 42, in <module>\n",
      "    from parso.grammar import Grammar, load_grammar\n",
      "  File \"/Users/Zaid/opt/anaconda3/lib/python3.9/site-packages/parso/grammar.py\", line 13, in <module>\n",
      "    from parso.cache import parser_cache, load_module, try_to_save_module\n",
      "  File \"/Users/Zaid/opt/anaconda3/lib/python3.9/site-packages/parso/cache.py\", line 76, in <module>\n",
      "    _default_cache_path = _get_default_cache_path()\n",
      "  File \"/Users/Zaid/opt/anaconda3/lib/python3.9/site-packages/parso/cache.py\", line 73, in _get_default_cache_path\n",
      "    return dir_.expanduser()\n",
      "AttributeError: 'PosixPath' object has no attribute 'expanduser'\n"
     ]
    },
    {
     "ename": "SystemExit",
     "evalue": "1",
     "output_type": "error",
     "traceback": [
      "An exception has occurred, use %tb to see the full traceback.\n",
      "\u001B[0;31mSystemExit\u001B[0m\u001B[0;31m:\u001B[0m 1\n"
     ]
    },
    {
     "name": "stderr",
     "output_type": "stream",
     "text": [
      "/Users/Zaid/opt/anaconda3/lib/python3.9/site-packages/IPython/core/interactiveshell.py:3465: UserWarning: To exit: use 'exit', 'quit', or Ctrl-D.\n",
      "  warn(\"To exit: use 'exit', 'quit', or Ctrl-D.\", stacklevel=1)\n"
     ]
    }
   ],
   "source": [
    "from flask import Flask, request, jsonify\n",
    "import os\n",
    "from langchain_openai import OpenAI, OpenAIEmbeddings\n",
    "from langchain_pinecone import PineconeVectorStore\n",
    "\n",
    "app = Flask(__name__)\n",
    "\n",
    "# Set environment variables\n",
    "os.environ['OPENAI_API_KEY'] = ''\n",
    "os.environ['PINECONE_API_KEY'] = 'f5fa0fda-521f-4e2b-959f-0ba03ea28de3'\n",
    "\n",
    "# Initialize OpenAI LLM\n",
    "llm = OpenAI(openai_api_key=os.environ['OPENAI_API_KEY'])\n",
    "\n",
    "# Pinecone index name\n",
    "index_name = \"hackbangalore-rag-trial-01\"\n",
    "\n",
    "# Initialize Pinecone vector store\n",
    "vectorstore = PineconeVectorStore(index_name=index_name,\n",
    "                                  embedding=OpenAIEmbeddings(openai_api_key=os.environ['OPENAI_API_KEY']))\n",
    "\n",
    "\n",
    "def extract_keywords_using_chatgpt(text):\n",
    "    \"\"\"\n",
    "    Sends a request to ChatGPT to extract keywords from the provided text.\n",
    "\n",
    "    :param text: The text from which keywords need to be extracted.\n",
    "    \"\"\"\n",
    "    try:\n",
    "        # Invoke the LLM to get the response, which is expected to be directly the keyword string\n",
    "        response = llm.invoke(\n",
    "            \"Extract the main keywords from the following text and provide them as a comma-separated list. do not give more than 10 keywords Please prefix the keywords with 'Keywords:'. the text to extract keyword is, \" + text\n",
    "        )\n",
    "        print(\"Response from ChatGPT:\", response)  # Debug: Print the full response to verify its structure\n",
    "        print(\"Type of response:\", type(response))\n",
    "        print(\"Content of response:\", response)\n",
    "\n",
    "        # Check if the response is directly usable\n",
    "        # strip /n and /r from the response\n",
    "        response = response.replace('\\n', '').replace('\\r', '')\n",
    "        if isinstance(response, str) and response.startswith('Keywords:'):\n",
    "            print(\"Response is directly usable\")\n",
    "            keywords = response[len('Keywords:'):].strip()\n",
    "            return [keyword.strip() for keyword in keywords.split(',')]\n",
    "        elif isinstance(response, dict) and 'text' in response:\n",
    "            output = response['text'].strip()\n",
    "            if output.startswith('Keywords:'):\n",
    "                keywords = output[len('Keywords:'):].strip()\n",
    "                return [keyword.strip() for keyword in keywords.split(',')]\n",
    "        else:\n",
    "            print(\"Unexpected response structure or no keywords prefix found\")\n",
    "            return []\n",
    "    except Exception as e:\n",
    "        print(f\"Error processing response: {e}\")\n",
    "        return []\n",
    "\n",
    "\n",
    "@app.route('/search_projects', methods=['POST'])\n",
    "def search_projects():\n",
    "    try:\n",
    "        data = request.get_json()\n",
    "        description = data.get('description', '')\n",
    "\n",
    "        # Extract keywords relevant to the description\n",
    "        keywords = extract_keywords_using_chatgpt(description)\n",
    "\n",
    "        # Perform a similarity search using the vector store with extracted keywords\n",
    "        search_query = ' '.join(keywords)\n",
    "        print(f\"Search query: {search_query}\")\n",
    "        search_result = vectorstore.similarity_search(search_query)\n",
    "\n",
    "        # Return the top 3 results, if more than 3 exist\n",
    "        top_results = search_result[:3] if len(search_result) > 3 else search_result\n",
    "\n",
    "        if top_results:\n",
    "            response_data = [{\"similarity_match\": result.page_content} for result in top_results]\n",
    "            return jsonify(response_data), 200\n",
    "        else:\n",
    "            return jsonify({'message': 'No results found'}), 404\n",
    "    except Exception as e:\n",
    "        return jsonify({'error': str(e)}), 500\n",
    "\n",
    "\n",
    "if __name__ == '__main__':\n",
    "    app.run(debug=True)\n",
    "\n"
   ]
  }
 ],
 "metadata": {
  "kernelspec": {
   "display_name": "Python 3",
   "language": "python",
   "name": "python3"
  },
  "language_info": {
   "codemirror_mode": {
    "name": "ipython",
    "version": 2
   },
   "file_extension": ".py",
   "mimetype": "text/x-python",
   "name": "python",
   "nbconvert_exporter": "python",
   "pygments_lexer": "ipython2",
   "version": "2.7.6"
  }
 },
 "nbformat": 4,
 "nbformat_minor": 0
}
