{
 "cells": [
  {
   "cell_type": "code",
   "execution_count": 18,
   "outputs": [
    {
     "name": "stdout",
     "output_type": "stream",
     "text": [
      "\r\n",
      "CommandNotFoundError: Your shell has not been properly configured to use 'conda activate'.\r\n",
      "To initialize your shell, run\r\n",
      "\r\n",
      "    $ conda init <SHELL_NAME>\r\n",
      "\r\n",
      "Currently supported shells are:\r\n",
      "  - bash\r\n",
      "  - fish\r\n",
      "  - tcsh\r\n",
      "  - xonsh\r\n",
      "  - zsh\r\n",
      "  - powershell\r\n",
      "\r\n",
      "See 'conda init --help' for more information and options.\r\n",
      "\r\n",
      "IMPORTANT: You may need to close and restart your shell after running 'conda init'.\r\n",
      "\r\n",
      "\r\n",
      "\n",
      "Note: you may need to restart the kernel to use updated packages.\n"
     ]
    }
   ],
   "source": [
    "conda activate HackBangalore"
   ],
   "metadata": {
    "collapsed": false
   }
  },
  {
   "cell_type": "markdown",
   "source": [
    "Load OpenAI API Key"
   ],
   "metadata": {
    "collapsed": false
   }
  },
  {
   "cell_type": "code",
   "execution_count": 16,
   "outputs": [],
   "source": [
    "import dotenv\n",
    "import os\n",
    "from langchain.chat_models import ChatOpenAI"
   ],
   "metadata": {
    "collapsed": false
   }
  },
  {
   "cell_type": "code",
   "execution_count": null,
   "metadata": {
    "collapsed": true,
    "pycharm": {
     "is_executing": true
    }
   },
   "outputs": [],
   "source": [
    "\n",
    "\n",
    "dotenv.load_dotenv()\n",
    "\n",
    "chat = ChatOpenAI(\n",
    "    openai_api_key=os.getenv(\"OPENAI_API_KEY\"),  # Retrieve API key from environment variable\n",
    "    model='gpt-3.5-turbo'\n",
    ")"
   ]
  },
  {
   "cell_type": "markdown",
   "source": [
    "Checking OpenAI connectivity"
   ],
   "metadata": {
    "collapsed": false
   }
  },
  {
   "cell_type": "code",
   "execution_count": null,
   "outputs": [],
   "source": [
    "\"\"\"from langchain.schema import (\n",
    "    SystemMessage,\n",
    "    HumanMessage,\n",
    "    AIMessage\n",
    ")\n",
    "\n",
    "messages = [\n",
    "    SystemMessage(content=\"You are a helpful assistant which helps investors find social impact projects.\"),\n",
    "    HumanMessage(content=\"Hi AI, how are you today?\"),\n",
    "    AIMessage(content=\"I'm great thank you. How can I help you?\"),\n",
    "    HumanMessage(content=\"I'd like to understand what are the corporate social responsibility guidelines for companies with various carbon footprints\")\n",
    "]\"\"\""
   ],
   "metadata": {
    "collapsed": false
   }
  },
  {
   "cell_type": "code",
   "execution_count": 3,
   "outputs": [
    {
     "data": {
      "text/plain": "'res = chat(messages)\\nres'"
     },
     "execution_count": 3,
     "metadata": {},
     "output_type": "execute_result"
    }
   ],
   "source": [
    "\"\"\"res = chat(messages)\n",
    "res\"\"\""
   ],
   "metadata": {
    "collapsed": false
   }
  },
  {
   "cell_type": "code",
   "execution_count": 4,
   "outputs": [],
   "source": [
    "#print(res.content)\n"
   ],
   "metadata": {
    "collapsed": false
   }
  },
  {
   "cell_type": "markdown",
   "source": [
    "Setup Pinecone Server"
   ],
   "metadata": {
    "collapsed": false
   }
  },
  {
   "cell_type": "code",
   "execution_count": 5,
   "outputs": [],
   "source": [
    "from pinecone import Pinecone, ServerlessSpec\n",
    "\n",
    "pc = Pinecone(api_key=\"f5fa0fda-521f-4e2b-959f-0ba03ea28de3\")"
   ],
   "metadata": {
    "collapsed": false
   }
  },
  {
   "cell_type": "code",
   "execution_count": 6,
   "outputs": [],
   "source": [
    "from pinecone import Pinecone\n",
    "\n",
    "api_key = os.getenv(\"PINECONE_API_KEY\") or \"YOUR_API_KEY\"\n",
    "\n",
    "pc = Pinecone(api_key=\"f5fa0fda-521f-4e2b-959f-0ba03ea28de3\")\n"
   ],
   "metadata": {
    "collapsed": false
   }
  },
  {
   "cell_type": "code",
   "execution_count": 7,
   "outputs": [],
   "source": [
    "from pinecone import ServerlessSpec\n",
    "\n",
    "spec = ServerlessSpec(\n",
    "    cloud=\"aws\", region=\"us-east-1\"\n",
    ")"
   ],
   "metadata": {
    "collapsed": false
   }
  },
  {
   "cell_type": "code",
   "execution_count": 8,
   "outputs": [
    {
     "data": {
      "text/plain": "{'dimension': 1536,\n 'index_fullness': 0.0,\n 'namespaces': {'': {'vector_count': 8314}},\n 'total_vector_count': 8314}"
     },
     "execution_count": 8,
     "metadata": {},
     "output_type": "execute_result"
    }
   ],
   "source": [
    "import time\n",
    "\n",
    "index_name = 'hackbangalore-rag-trial-01'\n",
    "\n",
    "existing_indexes = [\n",
    "    index_info[\"name\"] for index_info in pc.list_indexes()\n",
    "]\n",
    "\n",
    "# check if index already exists\n",
    "if index_name not in existing_indexes:\n",
    "    # if does not exist, create index\n",
    "    pc.create_index(\n",
    "        index_name,\n",
    "        dimension=1536,  # dimensionality of ada 002\n",
    "        metric='dotproduct',\n",
    "        spec=spec\n",
    "    )\n",
    "    # wait for index to be initialized\n",
    "    while not pc.describe_index(index_name).status['ready']:\n",
    "        time.sleep(1)\n",
    "\n",
    "# connect to index\n",
    "index = pc.Index(index_name)\n",
    "time.sleep(1)\n",
    "\n",
    "# view index stats\n",
    "index.describe_index_stats()"
   ],
   "metadata": {
    "collapsed": false
   }
  },
  {
   "cell_type": "markdown",
   "source": [
    "Define what embedding model to use"
   ],
   "metadata": {
    "collapsed": false
   }
  },
  {
   "cell_type": "code",
   "execution_count": 10,
   "outputs": [
    {
     "name": "stdout",
     "output_type": "stream",
     "text": [
      "Requirement already satisfied: langchain-openai in /Users/Zaid/opt/anaconda3/lib/python3.9/site-packages (0.0.2)\r\n",
      "Collecting langchain-openai\r\n",
      "  Downloading langchain_openai-0.1.6-py3-none-any.whl (34 kB)\r\n",
      "Collecting langchain-core<0.2.0,>=0.1.46\r\n",
      "  Using cached langchain_core-0.1.52-py3-none-any.whl (302 kB)\r\n",
      "Requirement already satisfied: tiktoken<1,>=0.5.2 in /Users/Zaid/opt/anaconda3/lib/python3.9/site-packages (from langchain-openai) (0.5.2)\r\n",
      "Collecting openai<2.0.0,>=1.24.0\r\n",
      "  Downloading openai-1.28.1-py3-none-any.whl (320 kB)\r\n",
      "\u001B[2K     \u001B[90m━━━━━━━━━━━━━━━━━━━━━━━━━━━━━━━━━━━━━\u001B[0m \u001B[32m320.1/320.1 kB\u001B[0m \u001B[31m742.1 kB/s\u001B[0m eta \u001B[36m0:00:00\u001B[0ma \u001B[36m0:00:01\u001B[0m\r\n",
      "\u001B[?25hRequirement already satisfied: jsonpatch<2.0,>=1.33 in /Users/Zaid/opt/anaconda3/lib/python3.9/site-packages (from langchain-core<0.2.0,>=0.1.46->langchain-openai) (1.33)\r\n",
      "Requirement already satisfied: packaging<24.0,>=23.2 in /Users/Zaid/opt/anaconda3/lib/python3.9/site-packages (from langchain-core<0.2.0,>=0.1.46->langchain-openai) (23.2)\r\n",
      "Requirement already satisfied: tenacity<9.0.0,>=8.1.0 in /Users/Zaid/opt/anaconda3/lib/python3.9/site-packages (from langchain-core<0.2.0,>=0.1.46->langchain-openai) (8.3.0)\r\n",
      "Requirement already satisfied: pydantic<3,>=1 in /Users/Zaid/opt/anaconda3/lib/python3.9/site-packages (from langchain-core<0.2.0,>=0.1.46->langchain-openai) (1.10.15)\r\n",
      "Requirement already satisfied: PyYAML>=5.3 in /Users/Zaid/opt/anaconda3/lib/python3.9/site-packages (from langchain-core<0.2.0,>=0.1.46->langchain-openai) (6.0)\r\n",
      "Collecting langsmith<0.2.0,>=0.1.0\r\n",
      "  Downloading langsmith-0.1.57-py3-none-any.whl (121 kB)\r\n",
      "\u001B[2K     \u001B[90m━━━━━━━━━━━━━━━━━━━━━━━━━━━━━━━━━━━━━━━\u001B[0m \u001B[32m121.0/121.0 kB\u001B[0m \u001B[31m1.3 MB/s\u001B[0m eta \u001B[36m0:00:00\u001B[0ma \u001B[36m0:00:01\u001B[0m\r\n",
      "\u001B[?25hRequirement already satisfied: typing-extensions<5,>=4.7 in /Users/Zaid/opt/anaconda3/lib/python3.9/site-packages (from openai<2.0.0,>=1.24.0->langchain-openai) (4.11.0)\r\n",
      "Requirement already satisfied: tqdm>4 in /Users/Zaid/opt/anaconda3/lib/python3.9/site-packages (from openai<2.0.0,>=1.24.0->langchain-openai) (4.66.4)\r\n",
      "Requirement already satisfied: distro<2,>=1.7.0 in /Users/Zaid/opt/anaconda3/lib/python3.9/site-packages (from openai<2.0.0,>=1.24.0->langchain-openai) (1.8.0)\r\n",
      "Requirement already satisfied: anyio<5,>=3.5.0 in /Users/Zaid/opt/anaconda3/lib/python3.9/site-packages (from openai<2.0.0,>=1.24.0->langchain-openai) (3.5.0)\r\n",
      "Requirement already satisfied: sniffio in /Users/Zaid/opt/anaconda3/lib/python3.9/site-packages (from openai<2.0.0,>=1.24.0->langchain-openai) (1.2.0)\r\n",
      "Requirement already satisfied: httpx<1,>=0.23.0 in /Users/Zaid/opt/anaconda3/lib/python3.9/site-packages (from openai<2.0.0,>=1.24.0->langchain-openai) (0.27.0)\r\n",
      "Requirement already satisfied: requests>=2.26.0 in /Users/Zaid/opt/anaconda3/lib/python3.9/site-packages (from tiktoken<1,>=0.5.2->langchain-openai) (2.28.1)\r\n",
      "Requirement already satisfied: regex>=2022.1.18 in /Users/Zaid/opt/anaconda3/lib/python3.9/site-packages (from tiktoken<1,>=0.5.2->langchain-openai) (2022.7.9)\r\n",
      "Requirement already satisfied: idna>=2.8 in /Users/Zaid/opt/anaconda3/lib/python3.9/site-packages (from anyio<5,>=3.5.0->openai<2.0.0,>=1.24.0->langchain-openai) (3.3)\r\n",
      "Requirement already satisfied: certifi in /Users/Zaid/opt/anaconda3/lib/python3.9/site-packages (from httpx<1,>=0.23.0->openai<2.0.0,>=1.24.0->langchain-openai) (2023.5.7)\r\n",
      "Requirement already satisfied: httpcore==1.* in /Users/Zaid/opt/anaconda3/lib/python3.9/site-packages (from httpx<1,>=0.23.0->openai<2.0.0,>=1.24.0->langchain-openai) (1.0.5)\r\n",
      "Requirement already satisfied: h11<0.15,>=0.13 in /Users/Zaid/opt/anaconda3/lib/python3.9/site-packages (from httpcore==1.*->httpx<1,>=0.23.0->openai<2.0.0,>=1.24.0->langchain-openai) (0.14.0)\r\n",
      "Requirement already satisfied: jsonpointer>=1.9 in /Users/Zaid/opt/anaconda3/lib/python3.9/site-packages (from jsonpatch<2.0,>=1.33->langchain-core<0.2.0,>=0.1.46->langchain-openai) (2.1)\r\n",
      "Collecting orjson<4.0.0,>=3.9.14\r\n",
      "  Downloading orjson-3.10.3-cp39-cp39-macosx_10_15_x86_64.macosx_11_0_arm64.macosx_10_15_universal2.whl (253 kB)\r\n",
      "\u001B[2K     \u001B[90m━━━━━━━━━━━━━━━━━━━━━━━━━━━━━━━━━━━━━━━\u001B[0m \u001B[32m253.3/253.3 kB\u001B[0m \u001B[31m2.3 MB/s\u001B[0m eta \u001B[36m0:00:00\u001B[0ma \u001B[36m0:00:01\u001B[0m\r\n",
      "\u001B[?25hRequirement already satisfied: charset-normalizer<3,>=2 in /Users/Zaid/opt/anaconda3/lib/python3.9/site-packages (from requests>=2.26.0->tiktoken<1,>=0.5.2->langchain-openai) (2.0.4)\r\n",
      "Requirement already satisfied: urllib3<1.27,>=1.21.1 in /Users/Zaid/opt/anaconda3/lib/python3.9/site-packages (from requests>=2.26.0->tiktoken<1,>=0.5.2->langchain-openai) (1.26.11)\r\n",
      "Installing collected packages: orjson, langsmith, openai, langchain-core, langchain-openai\r\n",
      "  Attempting uninstall: langsmith\r\n",
      "    Found existing installation: langsmith 0.0.87\r\n",
      "    Uninstalling langsmith-0.0.87:\r\n",
      "      Successfully uninstalled langsmith-0.0.87\r\n",
      "  Attempting uninstall: openai\r\n",
      "    Found existing installation: openai 0.27.7\r\n",
      "    Uninstalling openai-0.27.7:\r\n",
      "      Successfully uninstalled openai-0.27.7\r\n",
      "  Attempting uninstall: langchain-core\r\n",
      "    Found existing installation: langchain-core 0.1.23\r\n",
      "    Uninstalling langchain-core-0.1.23:\r\n",
      "      Successfully uninstalled langchain-core-0.1.23\r\n",
      "  Attempting uninstall: langchain-openai\r\n",
      "    Found existing installation: langchain-openai 0.0.2\r\n",
      "    Uninstalling langchain-openai-0.0.2:\r\n",
      "      Successfully uninstalled langchain-openai-0.0.2\r\n",
      "\u001B[31mERROR: pip's dependency resolver does not currently take into account all the packages that are installed. This behaviour is the source of the following dependency conflicts.\r\n",
      "langchain 0.0.354 requires langsmith<0.1.0,>=0.0.77, but you have langsmith 0.1.57 which is incompatible.\r\n",
      "langchain-community 0.0.12 requires langsmith<0.1.0,>=0.0.63, but you have langsmith 0.1.57 which is incompatible.\u001B[0m\u001B[31m\r\n",
      "\u001B[0mSuccessfully installed langchain-core-0.1.52 langchain-openai-0.1.6 langsmith-0.1.57 openai-1.28.1 orjson-3.10.3\r\n",
      "Note: you may need to restart the kernel to use updated packages.\n"
     ]
    }
   ],
   "source": [
    "pip install -U langchain-openai"
   ],
   "metadata": {
    "collapsed": false
   }
  },
  {
   "cell_type": "code",
   "execution_count": null,
   "outputs": [],
   "source": [
    "pip install langchain-openai==0.0.2"
   ],
   "metadata": {
    "collapsed": false
   }
  },
  {
   "cell_type": "code",
   "execution_count": 13,
   "outputs": [
    {
     "ename": "ImportError",
     "evalue": "cannot import name 'OpenAIEmbeddings' from 'langchain_core' (/Users/Zaid/opt/anaconda3/lib/python3.9/site-packages/langchain_core/__init__.py)",
     "output_type": "error",
     "traceback": [
      "\u001B[0;31m---------------------------------------------------------------------------\u001B[0m",
      "\u001B[0;31mImportError\u001B[0m                               Traceback (most recent call last)",
      "\u001B[0;32m/var/folders/66/k5gz0n6n7v30520l2h2dln600000gp/T/ipykernel_99857/954729478.py\u001B[0m in \u001B[0;36m<module>\u001B[0;34m\u001B[0m\n\u001B[0;32m----> 1\u001B[0;31m \u001B[0;32mfrom\u001B[0m \u001B[0mlangchain_core\u001B[0m \u001B[0;32mimport\u001B[0m \u001B[0mOpenAIEmbeddings\u001B[0m\u001B[0;34m\u001B[0m\u001B[0;34m\u001B[0m\u001B[0m\n\u001B[0m\u001B[1;32m      2\u001B[0m \u001B[0;34m\u001B[0m\u001B[0m\n\u001B[1;32m      3\u001B[0m \u001B[0membed_model\u001B[0m \u001B[0;34m=\u001B[0m \u001B[0mOpenAIEmbeddings\u001B[0m\u001B[0;34m(\u001B[0m\u001B[0mmodel\u001B[0m\u001B[0;34m=\u001B[0m\u001B[0;34m\"text-embedding-ada-002\"\u001B[0m\u001B[0;34m)\u001B[0m\u001B[0;34m\u001B[0m\u001B[0;34m\u001B[0m\u001B[0m\n",
      "\u001B[0;31mImportError\u001B[0m: cannot import name 'OpenAIEmbeddings' from 'langchain_core' (/Users/Zaid/opt/anaconda3/lib/python3.9/site-packages/langchain_core/__init__.py)"
     ]
    }
   ],
   "source": [
    "from langchain.embeddings.openai import OpenAIEmbeddings\n",
    "\n",
    "embed_model = OpenAIEmbeddings(model=\"text-embedding-ada-002\")"
   ],
   "metadata": {
    "collapsed": false
   }
  },
  {
   "cell_type": "code",
   "execution_count": null,
   "outputs": [],
   "source": [],
   "metadata": {
    "collapsed": false
   }
  }
 ],
 "metadata": {
  "kernelspec": {
   "display_name": "Python 3",
   "language": "python",
   "name": "python3"
  },
  "language_info": {
   "codemirror_mode": {
    "name": "ipython",
    "version": 2
   },
   "file_extension": ".py",
   "mimetype": "text/x-python",
   "name": "python",
   "nbconvert_exporter": "python",
   "pygments_lexer": "ipython2",
   "version": "2.7.6"
  }
 },
 "nbformat": 4,
 "nbformat_minor": 0
}
